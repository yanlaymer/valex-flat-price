{
 "cells": [
  {
   "cell_type": "code",
   "execution_count": 3,
   "metadata": {},
   "outputs": [],
   "source": [
    "ARTEFACTS_PATH = \"model/artefacts/\"\n",
    "from pickle import load\n",
    "ENCODERS = {\n",
    "    \"district\": \"district_encoder.sav\",\n",
    "    \"owner\": \"owner_encoder.sav\",\n",
    "    \"building\": \"building_encoder.sav\",\n",
    "    \"flat_renovation\": \"flat_renovation_encoder.sav\",\n",
    "    \"flat_priv\": \"flat_priv_encoder.sav\",\n",
    "    \"furniture\": \"furniture_encoder.sav\",\n",
    "    \"toilet\": \"toilet_encoder.sav\",\n",
    "}"
   ]
  },
  {
   "cell_type": "code",
   "execution_count": 4,
   "metadata": {},
   "outputs": [],
   "source": [
    "encoders = {}\n",
    "\n",
    "for key, filename in ENCODERS.items():\n",
    "    with open(ARTEFACTS_PATH + filename, \"rb\") as f:\n",
    "        encoders[key] = load(f)"
   ]
  },
  {
   "cell_type": "code",
   "execution_count": 5,
   "metadata": {},
   "outputs": [
    {
     "data": {
      "text/plain": [
       "['Кирпичный', 'Монолитный', 'Неизвестный', 'Панельный']"
      ]
     },
     "execution_count": 5,
     "metadata": {},
     "output_type": "execute_result"
    }
   ],
   "source": [
    "encoders[\"building\"].classes_.tolist()"
   ]
  },
  {
   "cell_type": "code",
   "execution_count": 6,
   "metadata": {},
   "outputs": [
    {
     "data": {
      "text/plain": [
       "['2 с/у и более', 'Нет', 'Раздельный', 'Совмещенный']"
      ]
     },
     "execution_count": 6,
     "metadata": {},
     "output_type": "execute_result"
    }
   ],
   "source": [
    "encoders[\"toilet\"].classes_.tolist()"
   ]
  },
  {
   "cell_type": "code",
   "execution_count": 7,
   "metadata": {},
   "outputs": [
    {
     "data": {
      "text/plain": [
       "['Евроремонт',\n",
       " 'Свободная планировка',\n",
       " 'Среднее',\n",
       " 'Требует ремонта',\n",
       " 'Хорошее',\n",
       " 'Черновая отделка']"
      ]
     },
     "execution_count": 7,
     "metadata": {},
     "output_type": "execute_result"
    }
   ],
   "source": [
    "encoders[\"flat_renovation\"].classes_.tolist()"
   ]
  },
  {
   "cell_type": "code",
   "execution_count": 10,
   "metadata": {},
   "outputs": [
    {
     "data": {
      "text/plain": [
       "['ПЕРЕДНИЙ ПРИВОД', 'ПОЛНЫЙ ПРИВОД', 'ЗАДНИЙ ПРИВОД']"
      ]
     },
     "execution_count": 10,
     "metadata": {},
     "output_type": "execute_result"
    }
   ],
   "source": [
    "import pandas as pd\n",
    "check_Data = pd.read_csv(\"/Users/ayannoorlan/Documents/valex/car_price_streamlit/data/analogs_data.csv\")\n",
    "\n",
    "check_Data.drive_wheel.value_counts().index.tolist()"
   ]
  },
  {
   "cell_type": "code",
   "execution_count": null,
   "metadata": {},
   "outputs": [],
   "source": []
  }
 ],
 "metadata": {
  "kernelspec": {
   "display_name": "valex_flat",
   "language": "python",
   "name": "python3"
  },
  "language_info": {
   "codemirror_mode": {
    "name": "ipython",
    "version": 3
   },
   "file_extension": ".py",
   "mimetype": "text/x-python",
   "name": "python",
   "nbconvert_exporter": "python",
   "pygments_lexer": "ipython3",
   "version": "3.9.18"
  }
 },
 "nbformat": 4,
 "nbformat_minor": 2
}
